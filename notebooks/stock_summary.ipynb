{
 "cells": [
  {
   "cell_type": "markdown",
   "id": "e40e4fbc-bcbd-4e96-82b8-9fed6dadb878",
   "metadata": {},
   "source": [
    "# NIFTY50 Stock Summary (Table 1)\n",
    "\n",
    "### 🎯 Objective\n",
    "In this notebook, we will:\n",
    "1. Scrape **NIFTY50 stock summary** from Yahoo Finance.\n",
    "2. Save the **raw dataset** in `/data/raw/`.\n",
    "3. Clean and standardize the dataset:\n",
    "   - Normalize column names\n",
    "   - Convert numeric columns\n",
    "   - Handle missing values\n",
    "4. Save the **cleaned dataset** in `/data/cleaned/`.\n"
   ]
  },
  {
   "cell_type": "markdown",
   "id": "14c1005a-f23a-430c-81c1-325ff517e64e",
   "metadata": {},
   "source": [
    "----\n",
    "## Starting with Phase 1\n",
    "----"
   ]
  },
  {
   "cell_type": "markdown",
   "id": "3bd630fa-a8ec-4b83-b43d-95e7543d5e3e",
   "metadata": {},
   "source": [
    "## Step 1: Setup Directories and Import Libraries\n",
    "\n",
    "We begin by importing Python libraries and creating dedicated directories to keep our raw data and cleaned data organized."
   ]
  },
  {
   "cell_type": "code",
   "execution_count": 1,
   "id": "c2828f8c-dac2-4006-b1a3-1c75fb020361",
   "metadata": {},
   "outputs": [],
   "source": [
    "# Step 1: Import Libraries\n",
    "import pandas as pd\n",
    "import numpy as np\n",
    "import os\n",
    "\n",
    "# Create directories\n",
    "os.makedirs(\"../data/raw\", exist_ok=True)\n",
    "os.makedirs(\"../data/cleaned\", exist_ok=True)\n"
   ]
  },
  {
   "cell_type": "markdown",
   "id": "d19497c0-957f-403d-b58b-3aba8ddcc9f9",
   "metadata": {},
   "source": [
    "## Step 2: Retrieve Raw Data from NSE API\n",
    "\n",
    "The NSE India API provides structured JSON data of NIFTY 50 constituents.\n",
    "We send a request with a browser-like User-Agent header to prevent the server from blocking our request.\n",
    "\n",
    "URL: https://www.nseindia.com/market-data/live-equity-market?symbol=NIFTY%2050\n"
   ]
  },
  {
   "cell_type": "code",
   "execution_count": 30,
   "id": "4929d2ea-f236-406f-8892-b0963fcaf384",
   "metadata": {},
   "outputs": [
    {
     "name": "stdout",
     "output_type": "stream",
     "text": [
      "Status: 200\n",
      "Content-Type: application/json; charset=utf-8\n",
      "First 500 chars:\n",
      " {\"name\":\"NIFTY 50\",\"advance\":{\"declines\":\"22\",\"advances\":\"28\",\"unchanged\":\"0\"},\"timestamp\":\"05-Sep-2025 16:00:00\",\"data\":[{\"priority\":1,\"symbol\":\"NIFTY 50\",\"identifier\":\"NIFTY 50\",\"open\":24818.85,\"dayHigh\":24832.35,\"dayLow\":24621.6,\"lastPrice\":24741,\"previousClose\":24734.3,\"change\":6.700000000000728,\"pChange\":0.03,\"ffmc\":1119690269.13,\"yearHigh\":26277.35,\"yearLow\":21743.65,\"totalTradedVolume\":210071924,\"stockIndClosePrice\":0,\"totalTradedValue\":185301526994.18,\"lastUpdateTime\":\"05-Sep-2025 16:00:\n"
     ]
    }
   ],
   "source": [
    "print(\"Status:\", response.status_code)\n",
    "print(\"Content-Type:\", response.headers.get(\"Content-Type\"))\n",
    "print(\"First 500 chars:\\n\", response.text[:500])\n"
   ]
  },
  {
   "cell_type": "raw",
   "id": "573e249f-3479-4b4f-88c3-3b7e4e564c9c",
   "metadata": {},
   "source": [
    "import requests\n",
    "import pandas as pd\n",
    "\n",
    "# Step 1: Start session\n",
    "session = requests.Session()\n",
    "\n",
    "# Headers (important: must look like a browser)\n",
    "headers = {\n",
    "    \"User-Agent\": \"Mozilla/5.0 (Windows NT 10.0; Win64; x64) AppleWebKit/537.36 \"\n",
    "                  \"(KHTML, like Gecko) Chrome/120.0.0.0 Safari/537.36\",\n",
    "    \"Accept\": \"application/json, text/plain, */*\",\n",
    "    \"Accept-Language\": \"en-US,en;q=0.9\",\n",
    "    \"Referer\": \"https://www.nseindia.com/\",\n",
    "    \"Connection\": \"keep-alive\"\n",
    "}\n",
    "\n",
    "# Step 2: Load NSE homepage (sets cookies in session)\n",
    "session.get(\"https://www.nseindia.com\", headers=headers, timeout=10)\n",
    "\n",
    "# Step 3: Fetch NIFTY 50 stock summary\n",
    "url = \"https://www.nseindia.com/api/equity-stockIndices?index=NIFTY%2050\"\n",
    "response = session.get(url, headers=headers, timeout=10)\n",
    "\n",
    "# Debugging: check if response is really JSON\n",
    "print(\"Response Content-Type:\", response.headers.get(\"Content-Type\"))\n",
    "print(\"First 200 chars of response:\", response.text[:200])\n",
    "\n",
    "# Step 4: Parse JSON\n",
    "data_json = response.json()  # This will only work if JSON is returned\n",
    "records = data_json.get(\"data\", [])\n",
    "\n",
    "# Step 5: Convert to DataFrame\n",
    "df = pd.DataFrame(records)\n",
    "print(df.head())\n"
   ]
  },
  {
   "cell_type": "code",
   "execution_count": 10,
   "id": "434f3a5e-7520-4250-9cd9-68d1321b2759",
   "metadata": {},
   "outputs": [],
   "source": [
    "import requests\n",
    "url = \"https://www.nseindia.com/api/equity-stockIndices?index=NIFTY%2050\"\n",
    "headers = {\n",
    "    \"User-Agent\": (\n",
    "        \"Mozilla/5.0 (Windows NT 10.0; Win64; x64) \"\n",
    "        \"AppleWebKit/537.36 (KHTML, like Gecko) \"\n",
    "        \"Chrome/120.0.0.0 Safari/537.36\"\n",
    "    )\n",
    "}\n",
    "\n",
    "response = requests.get(url, headers=headers)\n",
    "response.raise_for_status()  # Ensure the request was successful\n",
    "data_json = response.json()\n"
   ]
  },
  {
   "cell_type": "markdown",
   "id": "9260b924-2114-441c-80f0-dd87c50b042a",
   "metadata": {},
   "source": [
    "## Step 3: Save Raw JSON for Reference\n",
    "\n",
    "It’s good practice to store the raw unmodified data for traceability.\n",
    "This ensures we always have the original source if something goes wrong in cleaning."
   ]
  },
  {
   "cell_type": "code",
   "execution_count": 11,
   "id": "5b621326-bd14-4af8-83c3-bbccecdb8ab7",
   "metadata": {},
   "outputs": [],
   "source": [
    "with open(\"../data/raw/stock_summary_raw.json\", \"w\") as f:\n",
    "    f.write(response.text)\n"
   ]
  },
  {
   "cell_type": "markdown",
   "id": "ee21eaaa-886f-4c19-ac2b-283e10ad6cc1",
   "metadata": {},
   "source": [
    "## Step 4: Parse JSON into a DataFrame\n",
    "\n",
    "The raw JSON contains a key \"data\" where all stock information is stored.\n",
    "We will extract it and convert it into a structured pandas DataFrame."
   ]
  },
  {
   "cell_type": "code",
   "execution_count": 12,
   "id": "082148b3-a31b-495b-8133-c69c6a4128e8",
   "metadata": {},
   "outputs": [
    {
     "name": "stdout",
     "output_type": "stream",
     "text": [
      "Raw columns: Index(['priority', 'symbol', 'identifier', 'open', 'dayHigh', 'dayLow',\n",
      "       'lastPrice', 'previousClose', 'change', 'pChange', 'ffmc', 'yearHigh',\n",
      "       'yearLow', 'totalTradedVolume', 'stockIndClosePrice',\n",
      "       'totalTradedValue', 'lastUpdateTime', 'nearWKH', 'nearWKL',\n",
      "       'perChange365d', 'date365dAgo', 'chart365dPath', 'date30dAgo',\n",
      "       'perChange30d', 'chart30dPath', 'chartTodayPath', 'series', 'meta'],\n",
      "      dtype='object')\n"
     ]
    },
    {
     "data": {
      "text/html": [
       "<div>\n",
       "<style scoped>\n",
       "    .dataframe tbody tr th:only-of-type {\n",
       "        vertical-align: middle;\n",
       "    }\n",
       "\n",
       "    .dataframe tbody tr th {\n",
       "        vertical-align: top;\n",
       "    }\n",
       "\n",
       "    .dataframe thead th {\n",
       "        text-align: right;\n",
       "    }\n",
       "</style>\n",
       "<table border=\"1\" class=\"dataframe\">\n",
       "  <thead>\n",
       "    <tr style=\"text-align: right;\">\n",
       "      <th></th>\n",
       "      <th>priority</th>\n",
       "      <th>symbol</th>\n",
       "      <th>identifier</th>\n",
       "      <th>open</th>\n",
       "      <th>dayHigh</th>\n",
       "      <th>dayLow</th>\n",
       "      <th>lastPrice</th>\n",
       "      <th>previousClose</th>\n",
       "      <th>change</th>\n",
       "      <th>pChange</th>\n",
       "      <th>...</th>\n",
       "      <th>nearWKL</th>\n",
       "      <th>perChange365d</th>\n",
       "      <th>date365dAgo</th>\n",
       "      <th>chart365dPath</th>\n",
       "      <th>date30dAgo</th>\n",
       "      <th>perChange30d</th>\n",
       "      <th>chart30dPath</th>\n",
       "      <th>chartTodayPath</th>\n",
       "      <th>series</th>\n",
       "      <th>meta</th>\n",
       "    </tr>\n",
       "  </thead>\n",
       "  <tbody>\n",
       "    <tr>\n",
       "      <th>0</th>\n",
       "      <td>1</td>\n",
       "      <td>NIFTY 50</td>\n",
       "      <td>NIFTY 50</td>\n",
       "      <td>24818.85</td>\n",
       "      <td>24832.35</td>\n",
       "      <td>24621.6</td>\n",
       "      <td>24741.00</td>\n",
       "      <td>24734.3</td>\n",
       "      <td>6.70</td>\n",
       "      <td>0.03</td>\n",
       "      <td>...</td>\n",
       "      <td>-13.784944</td>\n",
       "      <td>-1.61</td>\n",
       "      <td>05-Sep-2024</td>\n",
       "      <td>https://nsearchives.nseindia.com/365d/NIFTY-50...</td>\n",
       "      <td>06-Aug-2025</td>\n",
       "      <td>0.68</td>\n",
       "      <td>https://nsearchives.nseindia.com/30d/NIFTY-50.svg</td>\n",
       "      <td>https://nsearchives.nseindia.com/today/NIFTY-5...</td>\n",
       "      <td>NaN</td>\n",
       "      <td>NaN</td>\n",
       "    </tr>\n",
       "    <tr>\n",
       "      <th>1</th>\n",
       "      <td>0</td>\n",
       "      <td>EICHERMOT</td>\n",
       "      <td>EICHERMOTEQN</td>\n",
       "      <td>6449.00</td>\n",
       "      <td>6598.50</td>\n",
       "      <td>6440.5</td>\n",
       "      <td>6580.00</td>\n",
       "      <td>6425.0</td>\n",
       "      <td>155.00</td>\n",
       "      <td>2.41</td>\n",
       "      <td>...</td>\n",
       "      <td>-45.938453</td>\n",
       "      <td>37.09</td>\n",
       "      <td>05-Sep-2024</td>\n",
       "      <td>https://nsearchives.nseindia.com/365d/EICHERMO...</td>\n",
       "      <td>06-Aug-2025</td>\n",
       "      <td>16.10</td>\n",
       "      <td>https://nsearchives.nseindia.com/30d/EICHERMOT...</td>\n",
       "      <td>https://nsearchives.nseindia.com/today/EICHERM...</td>\n",
       "      <td>EQ</td>\n",
       "      <td>{'symbol': 'EICHERMOT', 'companyName': 'Eicher...</td>\n",
       "    </tr>\n",
       "    <tr>\n",
       "      <th>2</th>\n",
       "      <td>0</td>\n",
       "      <td>M&amp;M</td>\n",
       "      <td>M&amp;MEQN</td>\n",
       "      <td>3511.00</td>\n",
       "      <td>3577.80</td>\n",
       "      <td>3481.5</td>\n",
       "      <td>3562.90</td>\n",
       "      <td>3481.5</td>\n",
       "      <td>81.40</td>\n",
       "      <td>2.34</td>\n",
       "      <td>...</td>\n",
       "      <td>-46.923711</td>\n",
       "      <td>30.78</td>\n",
       "      <td>05-Sep-2024</td>\n",
       "      <td>https://nsearchives.nseindia.com/365d/M&amp;M-EQ.svg</td>\n",
       "      <td>06-Aug-2025</td>\n",
       "      <td>10.34</td>\n",
       "      <td>https://nsearchives.nseindia.com/30d/M&amp;M-EQ.svg</td>\n",
       "      <td>https://nsearchives.nseindia.com/today/M&amp;MEQN.svg</td>\n",
       "      <td>EQ</td>\n",
       "      <td>{'symbol': 'M&amp;M', 'companyName': 'Mahindra &amp; M...</td>\n",
       "    </tr>\n",
       "    <tr>\n",
       "      <th>3</th>\n",
       "      <td>0</td>\n",
       "      <td>SHRIRAMFIN</td>\n",
       "      <td>SHRIRAMFINEQN</td>\n",
       "      <td>589.00</td>\n",
       "      <td>596.00</td>\n",
       "      <td>585.6</td>\n",
       "      <td>595.65</td>\n",
       "      <td>585.8</td>\n",
       "      <td>9.85</td>\n",
       "      <td>1.68</td>\n",
       "      <td>...</td>\n",
       "      <td>-20.735786</td>\n",
       "      <td>-81.74</td>\n",
       "      <td>05-Sep-2024</td>\n",
       "      <td>https://nsearchives.nseindia.com/365d/SHRIRAMF...</td>\n",
       "      <td>06-Aug-2025</td>\n",
       "      <td>-6.04</td>\n",
       "      <td>https://nsearchives.nseindia.com/30d/SHRIRAMFI...</td>\n",
       "      <td>https://nsearchives.nseindia.com/today/SHRIRAM...</td>\n",
       "      <td>EQ</td>\n",
       "      <td>{'symbol': 'SHRIRAMFIN', 'companyName': 'Shrir...</td>\n",
       "    </tr>\n",
       "    <tr>\n",
       "      <th>4</th>\n",
       "      <td>0</td>\n",
       "      <td>MARUTI</td>\n",
       "      <td>MARUTIEQN</td>\n",
       "      <td>14740.00</td>\n",
       "      <td>14957.00</td>\n",
       "      <td>14701.0</td>\n",
       "      <td>14903.00</td>\n",
       "      <td>14662.0</td>\n",
       "      <td>241.00</td>\n",
       "      <td>1.64</td>\n",
       "      <td>...</td>\n",
       "      <td>-38.955711</td>\n",
       "      <td>21.11</td>\n",
       "      <td>05-Sep-2024</td>\n",
       "      <td>https://nsearchives.nseindia.com/365d/MARUTI-E...</td>\n",
       "      <td>06-Aug-2025</td>\n",
       "      <td>18.93</td>\n",
       "      <td>https://nsearchives.nseindia.com/30d/MARUTI-EQ...</td>\n",
       "      <td>https://nsearchives.nseindia.com/today/MARUTIE...</td>\n",
       "      <td>EQ</td>\n",
       "      <td>{'symbol': 'MARUTI', 'companyName': 'Maruti Su...</td>\n",
       "    </tr>\n",
       "  </tbody>\n",
       "</table>\n",
       "<p>5 rows × 28 columns</p>\n",
       "</div>"
      ],
      "text/plain": [
       "   priority      symbol     identifier      open   dayHigh   dayLow  \\\n",
       "0         1    NIFTY 50       NIFTY 50  24818.85  24832.35  24621.6   \n",
       "1         0   EICHERMOT   EICHERMOTEQN   6449.00   6598.50   6440.5   \n",
       "2         0         M&M         M&MEQN   3511.00   3577.80   3481.5   \n",
       "3         0  SHRIRAMFIN  SHRIRAMFINEQN    589.00    596.00    585.6   \n",
       "4         0      MARUTI      MARUTIEQN  14740.00  14957.00  14701.0   \n",
       "\n",
       "   lastPrice  previousClose  change  pChange  ...    nearWKL  perChange365d  \\\n",
       "0   24741.00        24734.3    6.70     0.03  ... -13.784944          -1.61   \n",
       "1    6580.00         6425.0  155.00     2.41  ... -45.938453          37.09   \n",
       "2    3562.90         3481.5   81.40     2.34  ... -46.923711          30.78   \n",
       "3     595.65          585.8    9.85     1.68  ... -20.735786         -81.74   \n",
       "4   14903.00        14662.0  241.00     1.64  ... -38.955711          21.11   \n",
       "\n",
       "   date365dAgo                                      chart365dPath  \\\n",
       "0  05-Sep-2024  https://nsearchives.nseindia.com/365d/NIFTY-50...   \n",
       "1  05-Sep-2024  https://nsearchives.nseindia.com/365d/EICHERMO...   \n",
       "2  05-Sep-2024   https://nsearchives.nseindia.com/365d/M&M-EQ.svg   \n",
       "3  05-Sep-2024  https://nsearchives.nseindia.com/365d/SHRIRAMF...   \n",
       "4  05-Sep-2024  https://nsearchives.nseindia.com/365d/MARUTI-E...   \n",
       "\n",
       "    date30dAgo  perChange30d  \\\n",
       "0  06-Aug-2025          0.68   \n",
       "1  06-Aug-2025         16.10   \n",
       "2  06-Aug-2025         10.34   \n",
       "3  06-Aug-2025         -6.04   \n",
       "4  06-Aug-2025         18.93   \n",
       "\n",
       "                                        chart30dPath  \\\n",
       "0  https://nsearchives.nseindia.com/30d/NIFTY-50.svg   \n",
       "1  https://nsearchives.nseindia.com/30d/EICHERMOT...   \n",
       "2    https://nsearchives.nseindia.com/30d/M&M-EQ.svg   \n",
       "3  https://nsearchives.nseindia.com/30d/SHRIRAMFI...   \n",
       "4  https://nsearchives.nseindia.com/30d/MARUTI-EQ...   \n",
       "\n",
       "                                      chartTodayPath  series  \\\n",
       "0  https://nsearchives.nseindia.com/today/NIFTY-5...     NaN   \n",
       "1  https://nsearchives.nseindia.com/today/EICHERM...      EQ   \n",
       "2  https://nsearchives.nseindia.com/today/M&MEQN.svg      EQ   \n",
       "3  https://nsearchives.nseindia.com/today/SHRIRAM...      EQ   \n",
       "4  https://nsearchives.nseindia.com/today/MARUTIE...      EQ   \n",
       "\n",
       "                                                meta  \n",
       "0                                                NaN  \n",
       "1  {'symbol': 'EICHERMOT', 'companyName': 'Eicher...  \n",
       "2  {'symbol': 'M&M', 'companyName': 'Mahindra & M...  \n",
       "3  {'symbol': 'SHRIRAMFIN', 'companyName': 'Shrir...  \n",
       "4  {'symbol': 'MARUTI', 'companyName': 'Maruti Su...  \n",
       "\n",
       "[5 rows x 28 columns]"
      ]
     },
     "execution_count": 12,
     "metadata": {},
     "output_type": "execute_result"
    }
   ],
   "source": [
    "records = data_json.get(\"data\", [])\n",
    "df_raw = pd.DataFrame(records)\n",
    "\n",
    "print(\"Raw columns:\", df_raw.columns)\n",
    "df_raw.head()\n"
   ]
  },
  {
   "cell_type": "markdown",
   "id": "530f52ac-5fc3-45f9-978e-605dbeee4167",
   "metadata": {},
   "source": [
    "## Step 5: Save Raw CSV Snapshot\n",
    "\n",
    "Along with JSON, we save the raw CSV to make it easier for analysts who prefer working directly with tabular data"
   ]
  },
  {
   "cell_type": "code",
   "execution_count": 13,
   "id": "6ca3155e-3d89-48b5-ad12-3291bbce881d",
   "metadata": {},
   "outputs": [],
   "source": [
    "df_raw.to_csv(\"../data/raw/stock_summary_raw.csv\", index=False)\n"
   ]
  },
  {
   "cell_type": "markdown",
   "id": "d7c8689e-af9a-4be2-a30f-64f43347e502",
   "metadata": {},
   "source": [
    "## Step 6: Clean and Standardize Column Names\n",
    "\n",
    "Raw column names may contain spaces, mixed cases, and special characters.\n",
    "We will normalize column names to lowercase, snake_case, and align them with our project schema."
   ]
  },
  {
   "cell_type": "code",
   "execution_count": 14,
   "id": "f045df11-53a2-4be5-8958-23c23feeae2c",
   "metadata": {},
   "outputs": [
    {
     "data": {
      "text/html": [
       "<div>\n",
       "<style scoped>\n",
       "    .dataframe tbody tr th:only-of-type {\n",
       "        vertical-align: middle;\n",
       "    }\n",
       "\n",
       "    .dataframe tbody tr th {\n",
       "        vertical-align: top;\n",
       "    }\n",
       "\n",
       "    .dataframe thead th {\n",
       "        text-align: right;\n",
       "    }\n",
       "</style>\n",
       "<table border=\"1\" class=\"dataframe\">\n",
       "  <thead>\n",
       "    <tr style=\"text-align: right;\">\n",
       "      <th></th>\n",
       "      <th>priority</th>\n",
       "      <th>symbol</th>\n",
       "      <th>identifier</th>\n",
       "      <th>open</th>\n",
       "      <th>high</th>\n",
       "      <th>low</th>\n",
       "      <th>last_price</th>\n",
       "      <th>prev_close</th>\n",
       "      <th>change</th>\n",
       "      <th>perc_change</th>\n",
       "      <th>...</th>\n",
       "      <th>near_week_low</th>\n",
       "      <th>perc_change_365d</th>\n",
       "      <th>date_365d_ago</th>\n",
       "      <th>chart_365d_path</th>\n",
       "      <th>date_30d_ago</th>\n",
       "      <th>perc_change_30d</th>\n",
       "      <th>chart_30d_path</th>\n",
       "      <th>chart_today_path</th>\n",
       "      <th>series</th>\n",
       "      <th>meta</th>\n",
       "    </tr>\n",
       "  </thead>\n",
       "  <tbody>\n",
       "    <tr>\n",
       "      <th>0</th>\n",
       "      <td>1</td>\n",
       "      <td>NIFTY 50</td>\n",
       "      <td>NIFTY 50</td>\n",
       "      <td>24818.85</td>\n",
       "      <td>24832.35</td>\n",
       "      <td>24621.6</td>\n",
       "      <td>24741.00</td>\n",
       "      <td>24734.3</td>\n",
       "      <td>6.70</td>\n",
       "      <td>0.03</td>\n",
       "      <td>...</td>\n",
       "      <td>-13.784944</td>\n",
       "      <td>-1.61</td>\n",
       "      <td>05-Sep-2024</td>\n",
       "      <td>https://nsearchives.nseindia.com/365d/NIFTY-50...</td>\n",
       "      <td>06-Aug-2025</td>\n",
       "      <td>0.68</td>\n",
       "      <td>https://nsearchives.nseindia.com/30d/NIFTY-50.svg</td>\n",
       "      <td>https://nsearchives.nseindia.com/today/NIFTY-5...</td>\n",
       "      <td>NaN</td>\n",
       "      <td>NaN</td>\n",
       "    </tr>\n",
       "    <tr>\n",
       "      <th>1</th>\n",
       "      <td>0</td>\n",
       "      <td>EICHERMOT</td>\n",
       "      <td>EICHERMOTEQN</td>\n",
       "      <td>6449.00</td>\n",
       "      <td>6598.50</td>\n",
       "      <td>6440.5</td>\n",
       "      <td>6580.00</td>\n",
       "      <td>6425.0</td>\n",
       "      <td>155.00</td>\n",
       "      <td>2.41</td>\n",
       "      <td>...</td>\n",
       "      <td>-45.938453</td>\n",
       "      <td>37.09</td>\n",
       "      <td>05-Sep-2024</td>\n",
       "      <td>https://nsearchives.nseindia.com/365d/EICHERMO...</td>\n",
       "      <td>06-Aug-2025</td>\n",
       "      <td>16.10</td>\n",
       "      <td>https://nsearchives.nseindia.com/30d/EICHERMOT...</td>\n",
       "      <td>https://nsearchives.nseindia.com/today/EICHERM...</td>\n",
       "      <td>EQ</td>\n",
       "      <td>{'symbol': 'EICHERMOT', 'companyName': 'Eicher...</td>\n",
       "    </tr>\n",
       "    <tr>\n",
       "      <th>2</th>\n",
       "      <td>0</td>\n",
       "      <td>M&amp;M</td>\n",
       "      <td>M&amp;MEQN</td>\n",
       "      <td>3511.00</td>\n",
       "      <td>3577.80</td>\n",
       "      <td>3481.5</td>\n",
       "      <td>3562.90</td>\n",
       "      <td>3481.5</td>\n",
       "      <td>81.40</td>\n",
       "      <td>2.34</td>\n",
       "      <td>...</td>\n",
       "      <td>-46.923711</td>\n",
       "      <td>30.78</td>\n",
       "      <td>05-Sep-2024</td>\n",
       "      <td>https://nsearchives.nseindia.com/365d/M&amp;M-EQ.svg</td>\n",
       "      <td>06-Aug-2025</td>\n",
       "      <td>10.34</td>\n",
       "      <td>https://nsearchives.nseindia.com/30d/M&amp;M-EQ.svg</td>\n",
       "      <td>https://nsearchives.nseindia.com/today/M&amp;MEQN.svg</td>\n",
       "      <td>EQ</td>\n",
       "      <td>{'symbol': 'M&amp;M', 'companyName': 'Mahindra &amp; M...</td>\n",
       "    </tr>\n",
       "    <tr>\n",
       "      <th>3</th>\n",
       "      <td>0</td>\n",
       "      <td>SHRIRAMFIN</td>\n",
       "      <td>SHRIRAMFINEQN</td>\n",
       "      <td>589.00</td>\n",
       "      <td>596.00</td>\n",
       "      <td>585.6</td>\n",
       "      <td>595.65</td>\n",
       "      <td>585.8</td>\n",
       "      <td>9.85</td>\n",
       "      <td>1.68</td>\n",
       "      <td>...</td>\n",
       "      <td>-20.735786</td>\n",
       "      <td>-81.74</td>\n",
       "      <td>05-Sep-2024</td>\n",
       "      <td>https://nsearchives.nseindia.com/365d/SHRIRAMF...</td>\n",
       "      <td>06-Aug-2025</td>\n",
       "      <td>-6.04</td>\n",
       "      <td>https://nsearchives.nseindia.com/30d/SHRIRAMFI...</td>\n",
       "      <td>https://nsearchives.nseindia.com/today/SHRIRAM...</td>\n",
       "      <td>EQ</td>\n",
       "      <td>{'symbol': 'SHRIRAMFIN', 'companyName': 'Shrir...</td>\n",
       "    </tr>\n",
       "    <tr>\n",
       "      <th>4</th>\n",
       "      <td>0</td>\n",
       "      <td>MARUTI</td>\n",
       "      <td>MARUTIEQN</td>\n",
       "      <td>14740.00</td>\n",
       "      <td>14957.00</td>\n",
       "      <td>14701.0</td>\n",
       "      <td>14903.00</td>\n",
       "      <td>14662.0</td>\n",
       "      <td>241.00</td>\n",
       "      <td>1.64</td>\n",
       "      <td>...</td>\n",
       "      <td>-38.955711</td>\n",
       "      <td>21.11</td>\n",
       "      <td>05-Sep-2024</td>\n",
       "      <td>https://nsearchives.nseindia.com/365d/MARUTI-E...</td>\n",
       "      <td>06-Aug-2025</td>\n",
       "      <td>18.93</td>\n",
       "      <td>https://nsearchives.nseindia.com/30d/MARUTI-EQ...</td>\n",
       "      <td>https://nsearchives.nseindia.com/today/MARUTIE...</td>\n",
       "      <td>EQ</td>\n",
       "      <td>{'symbol': 'MARUTI', 'companyName': 'Maruti Su...</td>\n",
       "    </tr>\n",
       "  </tbody>\n",
       "</table>\n",
       "<p>5 rows × 28 columns</p>\n",
       "</div>"
      ],
      "text/plain": [
       "   priority      symbol     identifier      open      high      low  \\\n",
       "0         1    NIFTY 50       NIFTY 50  24818.85  24832.35  24621.6   \n",
       "1         0   EICHERMOT   EICHERMOTEQN   6449.00   6598.50   6440.5   \n",
       "2         0         M&M         M&MEQN   3511.00   3577.80   3481.5   \n",
       "3         0  SHRIRAMFIN  SHRIRAMFINEQN    589.00    596.00    585.6   \n",
       "4         0      MARUTI      MARUTIEQN  14740.00  14957.00  14701.0   \n",
       "\n",
       "   last_price  prev_close  change  perc_change  ...  near_week_low  \\\n",
       "0    24741.00     24734.3    6.70         0.03  ...     -13.784944   \n",
       "1     6580.00      6425.0  155.00         2.41  ...     -45.938453   \n",
       "2     3562.90      3481.5   81.40         2.34  ...     -46.923711   \n",
       "3      595.65       585.8    9.85         1.68  ...     -20.735786   \n",
       "4    14903.00     14662.0  241.00         1.64  ...     -38.955711   \n",
       "\n",
       "   perc_change_365d  date_365d_ago  \\\n",
       "0             -1.61    05-Sep-2024   \n",
       "1             37.09    05-Sep-2024   \n",
       "2             30.78    05-Sep-2024   \n",
       "3            -81.74    05-Sep-2024   \n",
       "4             21.11    05-Sep-2024   \n",
       "\n",
       "                                     chart_365d_path  date_30d_ago  \\\n",
       "0  https://nsearchives.nseindia.com/365d/NIFTY-50...   06-Aug-2025   \n",
       "1  https://nsearchives.nseindia.com/365d/EICHERMO...   06-Aug-2025   \n",
       "2   https://nsearchives.nseindia.com/365d/M&M-EQ.svg   06-Aug-2025   \n",
       "3  https://nsearchives.nseindia.com/365d/SHRIRAMF...   06-Aug-2025   \n",
       "4  https://nsearchives.nseindia.com/365d/MARUTI-E...   06-Aug-2025   \n",
       "\n",
       "   perc_change_30d                                     chart_30d_path  \\\n",
       "0             0.68  https://nsearchives.nseindia.com/30d/NIFTY-50.svg   \n",
       "1            16.10  https://nsearchives.nseindia.com/30d/EICHERMOT...   \n",
       "2            10.34    https://nsearchives.nseindia.com/30d/M&M-EQ.svg   \n",
       "3            -6.04  https://nsearchives.nseindia.com/30d/SHRIRAMFI...   \n",
       "4            18.93  https://nsearchives.nseindia.com/30d/MARUTI-EQ...   \n",
       "\n",
       "                                    chart_today_path  series  \\\n",
       "0  https://nsearchives.nseindia.com/today/NIFTY-5...     NaN   \n",
       "1  https://nsearchives.nseindia.com/today/EICHERM...      EQ   \n",
       "2  https://nsearchives.nseindia.com/today/M&MEQN.svg      EQ   \n",
       "3  https://nsearchives.nseindia.com/today/SHRIRAM...      EQ   \n",
       "4  https://nsearchives.nseindia.com/today/MARUTIE...      EQ   \n",
       "\n",
       "                                                meta  \n",
       "0                                                NaN  \n",
       "1  {'symbol': 'EICHERMOT', 'companyName': 'Eicher...  \n",
       "2  {'symbol': 'M&M', 'companyName': 'Mahindra & M...  \n",
       "3  {'symbol': 'SHRIRAMFIN', 'companyName': 'Shrir...  \n",
       "4  {'symbol': 'MARUTI', 'companyName': 'Maruti Su...  \n",
       "\n",
       "[5 rows x 28 columns]"
      ]
     },
     "execution_count": 14,
     "metadata": {},
     "output_type": "execute_result"
    }
   ],
   "source": [
    "df = df_raw.copy()\n",
    "\n",
    "# Normalize column names\n",
    "df.columns = (\n",
    "    df.columns.str.strip()\n",
    "    .str.lower()\n",
    "    .str.replace(\" \", \"_\")\n",
    "    .str.replace(r\"[^a-z0-9_]\", \"\", regex=True)\n",
    ")\n",
    "\n",
    "# Rename selected fields to standard names\n",
    "rename_map = {\n",
    "    \"symbol\": \"symbol\",\n",
    "    \"lastprice\": \"last_price\",\n",
    "    \"change\": \"change\",\n",
    "    \"pchange\": \"perc_change\",\n",
    "    \"open\": \"open\",\n",
    "    \"totaltradedvolume\": \"volume\",\n",
    "    \"totaltradedvalue\": \"value\",\n",
    "    \n",
    "    # Additional mappings\n",
    "    \"dayhigh\": \"high\",\n",
    "    \"daylow\": \"low\",\n",
    "    \"previousclose\": \"prev_close\",\n",
    "    \"ffmc\": \"ffmc\",\n",
    "    \"yearhigh\": \"year_high\",\n",
    "    \"yearlow\": \"year_low\",\n",
    "    \"stockindcloseprice\": \"index_close_price\",\n",
    "    \"lastupdatetime\": \"last_update\",\n",
    "    \"nearwkh\": \"near_week_high\",\n",
    "    \"nearwkl\": \"near_week_low\",\n",
    "    \"perchange365d\": \"perc_change_365d\",\n",
    "    \"date365dago\": \"date_365d_ago\",\n",
    "    \"chart365dpath\": \"chart_365d_path\",\n",
    "    \"date30dago\": \"date_30d_ago\",\n",
    "    \"perchange30d\": \"perc_change_30d\",\n",
    "    \"chart30dpath\": \"chart_30d_path\",\n",
    "    \"charttodaypath\": \"chart_today_path\",\n",
    "    \"series\": \"series\",\n",
    "    \"meta\": \"meta\"\n",
    "\n",
    "}\n",
    "df = df.rename(columns=rename_map)\n",
    "\n",
    "df.head()\n"
   ]
  },
  {
   "cell_type": "markdown",
   "id": "678fe661-980a-49d1-a75e-fff0afa1814c",
   "metadata": {},
   "source": [
    "## Step 7: Convert Numerical Columns\n",
    "\n",
    "By default, some fields may be stored as strings.\n",
    "We will explicitly convert them into numeric values for proper analysis."
   ]
  },
  {
   "cell_type": "code",
   "execution_count": 15,
   "id": "e26591e4-3ef3-451d-968e-0e4258dc4563",
   "metadata": {},
   "outputs": [],
   "source": [
    "numeric_cols = [\"last_price\", \"change\", \"perc_change\", \"open\", \"high\", \"low\", \"volume\", \"value\"]\n",
    "\n",
    "for col in numeric_cols:\n",
    "    if col in df.columns:\n",
    "        df[col] = pd.to_numeric(df[col], errors=\"coerce\")\n"
   ]
  },
  {
   "cell_type": "markdown",
   "id": "c83b0688-d169-4656-b71d-e61c7706b476",
   "metadata": {},
   "source": [
    "## Step 8: Handle Missing Values\n",
    "\n",
    "To ensure data quality, we will handle missing values by:\n",
    "\n",
    "Dropping rows where the stock symbol is missing.\n",
    "\n",
    "Filling missing numerical fields with the median value of that column."
   ]
  },
  {
   "cell_type": "code",
   "execution_count": 16,
   "id": "a6877ee2-f748-46a1-b29c-7c4671b683ff",
   "metadata": {},
   "outputs": [],
   "source": [
    "# Drop invalid rows\n",
    "df = df.dropna(subset=[\"symbol\"])\n",
    "\n",
    "# Fill missing numeric fields\n",
    "for col in numeric_cols:\n",
    "    if col in df.columns:\n",
    "        df[col] = df[col].fillna(df[col].median())\n"
   ]
  },
  {
   "cell_type": "markdown",
   "id": "f8540b11-986a-493b-8f63-3375fe3026ae",
   "metadata": {},
   "source": [
    "### Further cleaning and standardising \n",
    "\n",
    "* Check the column headers to determine if further standardisation is required.\n",
    "* Check for more missing values and replace them with a default  or a  suitable value.\n",
    "* Check the datatypes of each date & time-specific column. If it's a string, convert it to datetime format."
   ]
  },
  {
   "cell_type": "code",
   "execution_count": 17,
   "id": "a6ccc782-cf91-4d0a-9a12-e3e2dec90521",
   "metadata": {},
   "outputs": [
    {
     "name": "stdout",
     "output_type": "stream",
     "text": [
      "Index(['priority', 'symbol', 'identifier', 'open', 'high', 'low', 'last_price',\n",
      "       'prev_close', 'change', 'perc_change', 'ffmc', 'year_high', 'year_low',\n",
      "       'volume', 'index_close_price', 'value', 'last_update', 'near_week_high',\n",
      "       'near_week_low', 'perc_change_365d', 'date_365d_ago', 'chart_365d_path',\n",
      "       'date_30d_ago', 'perc_change_30d', 'chart_30d_path', 'chart_today_path',\n",
      "       'series', 'meta'],\n",
      "      dtype='object')\n"
     ]
    }
   ],
   "source": [
    "#Check the column headers\n",
    "print(df.columns)\n"
   ]
  },
  {
   "cell_type": "code",
   "execution_count": 18,
   "id": "0338e203-dc64-4c68-aee4-62806c85e49f",
   "metadata": {},
   "outputs": [
    {
     "name": "stdout",
     "output_type": "stream",
     "text": [
      "0\n"
     ]
    }
   ],
   "source": [
    "#print(df.loc[8, 'perc_change_365d']) => Null\n",
    "df.loc[8, 'perc_change_365d'] = 0\n",
    "print(df.loc[8, 'perc_change_365d'])\n"
   ]
  },
  {
   "cell_type": "code",
   "execution_count": 19,
   "id": "d97d251e-9f7b-4886-bc3a-28e607d1c51d",
   "metadata": {},
   "outputs": [
    {
     "name": "stdout",
     "output_type": "stream",
     "text": [
      "-\n",
      "05-Sep-2024\n"
     ]
    }
   ],
   "source": [
    "print(df.loc[8, 'date_365d_ago'])\n",
    "df.loc[8, 'date_365d_ago'] = '05-Sep-2024'\n",
    "print(df.loc[8, 'date_365d_ago'])"
   ]
  },
  {
   "cell_type": "code",
   "execution_count": 20,
   "id": "8095896b-201c-46d5-8541-1f33cfba2eb2",
   "metadata": {},
   "outputs": [
    {
     "name": "stdout",
     "output_type": "stream",
     "text": [
      "Missing.svg\n"
     ]
    }
   ],
   "source": [
    "df.loc[8, 'chart_365d_path'] = 'Missing.svg'\n",
    "print(df.loc[8, 'chart_365d_path'])"
   ]
  },
  {
   "cell_type": "markdown",
   "id": "5101c7b9-64e4-4720-b735-3f431ff98f24",
   "metadata": {},
   "source": [
    "#### Check for the datatype of date or time-specific columns "
   ]
  },
  {
   "cell_type": "code",
   "execution_count": 21,
   "id": "6b8b1d96-6e8d-478b-9f5e-887e7e4be46f",
   "metadata": {},
   "outputs": [
    {
     "name": "stdout",
     "output_type": "stream",
     "text": [
      "<class 'str'>\n"
     ]
    }
   ],
   "source": [
    "print(type('last_update'))"
   ]
  },
  {
   "cell_type": "code",
   "execution_count": 22,
   "id": "7cf053ee-c245-49f4-a669-d77346eece52",
   "metadata": {},
   "outputs": [
    {
     "name": "stdout",
     "output_type": "stream",
     "text": [
      "<class 'str'>\n"
     ]
    }
   ],
   "source": [
    "print(type('date_30d_ago'))"
   ]
  },
  {
   "cell_type": "markdown",
   "id": "2ef8d84f-d433-44c4-b65f-d1084e2ff359",
   "metadata": {},
   "source": [
    "#### Before conversion make sure all missing values are dealt with "
   ]
  },
  {
   "cell_type": "code",
   "execution_count": 23,
   "id": "ab677a6f-9cc2-46bb-9893-331206e2493b",
   "metadata": {},
   "outputs": [
    {
     "data": {
      "text/plain": [
       "array(['05-Sep-2025 16:00:00'], dtype=object)"
      ]
     },
     "execution_count": 23,
     "metadata": {},
     "output_type": "execute_result"
    }
   ],
   "source": [
    "# Get the first non-null value from last_update\n",
    "last_update_value = df[\"last_update\"].dropna().iloc[0]\n",
    "\n",
    "# Fill all missing values with this timestamp\n",
    "df[\"last_update\"] = df[\"last_update\"].fillna(last_update_value)\n",
    "\n",
    "# Quick check\n",
    "df[\"last_update\"].unique()\n"
   ]
  },
  {
   "cell_type": "code",
   "execution_count": 24,
   "id": "4dee3fa8-aa1b-4eaf-adcf-80bfefee9366",
   "metadata": {},
   "outputs": [
    {
     "name": "stdout",
     "output_type": "stream",
     "text": [
      "05-Sep-2025 16:00:00\n"
     ]
    }
   ],
   "source": [
    "print(df.loc[8, 'last_update'])"
   ]
  },
  {
   "cell_type": "markdown",
   "id": "608bd3f3-2cfb-4514-8ff0-9abc6d5298b1",
   "metadata": {},
   "source": [
    "#### After dealing with the missing values now convert their data types"
   ]
  },
  {
   "cell_type": "code",
   "execution_count": 25,
   "id": "a9a11365-5754-4fa0-bb28-50c81763648f",
   "metadata": {},
   "outputs": [
    {
     "data": {
      "text/plain": [
       "last_update      datetime64[ns]\n",
       "date_365d_ago    datetime64[ns]\n",
       "date_30d_ago     datetime64[ns]\n",
       "dtype: object"
      ]
     },
     "execution_count": 25,
     "metadata": {},
     "output_type": "execute_result"
    }
   ],
   "source": [
    "# Define date columns\n",
    "date_cols = [\"last_update\", \"date_365d_ago\", \"date_30d_ago\"]\n",
    "\n",
    "# Convert string → datetime\n",
    "for col in date_cols:\n",
    "    if col in df.columns:\n",
    "        df[col] = pd.to_datetime(df[col], errors=\"coerce\", dayfirst=False)\n",
    "\n",
    "# Verify conversions\n",
    "df.dtypes[[\"last_update\", \"date_365d_ago\", \"date_30d_ago\"]]\n"
   ]
  },
  {
   "cell_type": "markdown",
   "id": "afafc4ba-377e-4f50-9994-32c221ff5c96",
   "metadata": {},
   "source": [
    "## Step 9: Save the Final Cleaned Dataset\n",
    "\n",
    "Finally, we save the cleaned dataset which is ready for analysis or visualization."
   ]
  },
  {
   "cell_type": "code",
   "execution_count": 26,
   "id": "49519715-6e53-45e3-92d9-36bc71fba6da",
   "metadata": {},
   "outputs": [
    {
     "name": "stdout",
     "output_type": "stream",
     "text": [
      "✅ Cleaned dataset saved successfully!\n"
     ]
    }
   ],
   "source": [
    "df.to_csv(\"../data/cleaned/indstock_summary_cleaned.csv\", index=False)\n",
    "print(\"✅ Cleaned dataset saved successfully!\")\n"
   ]
  },
  {
   "cell_type": "markdown",
   "id": "133a3949-54c1-483c-9eab-63a2bd23af9c",
   "metadata": {},
   "source": [
    "----\n",
    "## Starting with Phase 2\n",
    "----"
   ]
  },
  {
   "cell_type": "markdown",
   "id": "0b1a83cb-4725-44cb-ae72-26855bc5bec8",
   "metadata": {},
   "source": [
    "## Step 10: Now Extract The Meta Column\n",
    "\n",
    "We will save the `meta` column dataset into `../data/raw`, naming it `indstock_metadata.csv`."
   ]
  },
  {
   "cell_type": "code",
   "execution_count": 27,
   "id": "3a6b7d90-7db3-488a-bd2f-2cf8f4e133dc",
   "metadata": {},
   "outputs": [
    {
     "name": "stdout",
     "output_type": "stream",
     "text": [
      "Metadata extracted and saved to 'indstock_metadata.csv'\n",
      "       symbol      symbol                       companyName  \\\n",
      "0   EICHERMOT   EICHERMOT             Eicher Motors Limited   \n",
      "1         M&M         M&M       Mahindra & Mahindra Limited   \n",
      "2  SHRIRAMFIN  SHRIRAMFIN           Shriram Finance Limited   \n",
      "3      MARUTI      MARUTI       Maruti Suzuki India Limited   \n",
      "4     DRREDDY     DRREDDY  Dr. Reddy's Laboratories Limited   \n",
      "\n",
      "                               industry activeSeries debtSeries  isFNOSec  \\\n",
      "0                          2/3 Wheelers         [EQ]         []      True   \n",
      "1     Passenger Cars & Utility Vehicles     [EQ, T0]         []      True   \n",
      "2  Non Banking Financial Company (NBFC)         [EQ]         []      True   \n",
      "3     Passenger Cars & Utility Vehicles         [EQ]         []      True   \n",
      "4                       Pharmaceuticals         [EQ]         []      True   \n",
      "\n",
      "   isCASec  isSLBSec  isDebtSec  ...  isETFSec isDelisted          isin  \\\n",
      "0    False      True      False  ...     False      False  INE066A01021   \n",
      "1    False      True      False  ...     False      False  INE101A01026   \n",
      "2    False      True       True  ...     False      False  INE721A01047   \n",
      "3    False      True      False  ...     False      False  INE585B01010   \n",
      "4    False      True      False  ...     False      False  INE089A01031   \n",
      "\n",
      "       slb_isin listingDate isMunicipalBond isHybridSymbol  \\\n",
      "0  INE066A01021  2004-09-07           False          False   \n",
      "1  INE101A01026  1996-01-03           False          False   \n",
      "2  INE721A01047  1996-12-11           False          False   \n",
      "3  INE585B01010  2003-07-09           False          False   \n",
      "4  INE089A01031  2003-05-30           False          False   \n",
      "\n",
      "   quotepreopenstatus.equityTime  quotepreopenstatus.preOpenTime  \\\n",
      "0           05-Sep-2025 16:00:00            05-Sep-2025 09:07:40   \n",
      "1           05-Sep-2025 16:00:00            05-Sep-2025 09:07:40   \n",
      "2           05-Sep-2025 16:00:00            05-Sep-2025 09:07:40   \n",
      "3           05-Sep-2025 16:00:00            05-Sep-2025 09:07:40   \n",
      "4           05-Sep-2025 16:00:00            05-Sep-2025 09:07:40   \n",
      "\n",
      "  quotepreopenstatus.QuotePreOpenFlag  \n",
      "0                               False  \n",
      "1                               False  \n",
      "2                               False  \n",
      "3                               False  \n",
      "4                               False  \n",
      "\n",
      "[5 rows x 22 columns]\n"
     ]
    }
   ],
   "source": [
    "import pandas as pd\n",
    "import ast\n",
    "\n",
    "# ✅ Step 1: Load your cleaned stock summary file\n",
    "df = pd.read_csv(\"../data/cleaned/indstock_summary_cleaned.csv\")\n",
    "\n",
    "# ✅ Step 2: Drop rows where 'meta' is empty\n",
    "df_meta = df.dropna(subset=[\"meta\"]).copy()\n",
    "\n",
    "# ✅ Step 3: Convert 'meta' string into Python dictionary\n",
    "df_meta[\"meta_dict\"] = df_meta[\"meta\"].apply(lambda x: ast.literal_eval(x))\n",
    "\n",
    "# ✅ Step 4: Expand the dictionary into separate columns\n",
    "meta_expanded = pd.json_normalize(df_meta[\"meta_dict\"])\n",
    "\n",
    "# ✅ Step 5: Keep symbol + metadata together\n",
    "meta_final = pd.concat([df_meta[[\"symbol\"]].reset_index(drop=True),\n",
    "                        meta_expanded.reset_index(drop=True)], axis=1)\n",
    "\n",
    "# ✅ Step 6: Save as new CSV file\n",
    "meta_final.to_csv(\"../data/raw/indstock_metadata.csv\", index=False)\n",
    "\n",
    "print(\"Metadata extracted and saved to 'indstock_metadata.csv'\")\n",
    "print(meta_final.head())\n"
   ]
  },
  {
   "cell_type": "markdown",
   "id": "4d9d5c8e-2812-478b-b6e9-6b2ed0fa1221",
   "metadata": {},
   "source": [
    "####  Check for the Column heads"
   ]
  },
  {
   "cell_type": "code",
   "execution_count": 28,
   "id": "573f7c8f-4b57-4484-9ef5-2a2e1e634e81",
   "metadata": {},
   "outputs": [
    {
     "data": {
      "text/plain": [
       "Index(['symbol', 'symbol', 'companyName', 'industry', 'activeSeries',\n",
       "       'debtSeries', 'isFNOSec', 'isCASec', 'isSLBSec', 'isDebtSec',\n",
       "       'isSuspended', 'tempSuspendedSeries', 'isETFSec', 'isDelisted', 'isin',\n",
       "       'slb_isin', 'listingDate', 'isMunicipalBond', 'isHybridSymbol',\n",
       "       'quotepreopenstatus.equityTime', 'quotepreopenstatus.preOpenTime',\n",
       "       'quotepreopenstatus.QuotePreOpenFlag'],\n",
       "      dtype='object')"
      ]
     },
     "execution_count": 28,
     "metadata": {},
     "output_type": "execute_result"
    }
   ],
   "source": [
    "meta_final.columns\n"
   ]
  },
  {
   "cell_type": "markdown",
   "id": "bce102c8-70bf-462a-a26d-57cab0c999e7",
   "metadata": {},
   "source": [
    "## Step 11: Standardisation of Column Header Name \n",
    "\n",
    "Rename column header into a uniform pattern."
   ]
  },
  {
   "cell_type": "code",
   "execution_count": 29,
   "id": "dc2e7cd8-6286-4aae-b4b5-21258770f01d",
   "metadata": {},
   "outputs": [
    {
     "name": "stdout",
     "output_type": "stream",
     "text": [
      "✅ Standardized metadata saved as 'indstock_metadata_cleaned.csv'\n",
      "       symbol    symbol.1                      company_name  \\\n",
      "0   EICHERMOT   EICHERMOT             Eicher Motors Limited   \n",
      "1         M&M         M&M       Mahindra & Mahindra Limited   \n",
      "2  SHRIRAMFIN  SHRIRAMFIN           Shriram Finance Limited   \n",
      "3      MARUTI      MARUTI       Maruti Suzuki India Limited   \n",
      "4     DRREDDY     DRREDDY  Dr. Reddy's Laboratories Limited   \n",
      "\n",
      "                               industry active_series debt_series  is_fno_sec  \\\n",
      "0                          2/3 Wheelers        ['EQ']          []        True   \n",
      "1     Passenger Cars & Utility Vehicles  ['EQ', 'T0']          []        True   \n",
      "2  Non Banking Financial Company (NBFC)        ['EQ']          []        True   \n",
      "3     Passenger Cars & Utility Vehicles        ['EQ']          []        True   \n",
      "4                       Pharmaceuticals        ['EQ']          []        True   \n",
      "\n",
      "   is_ca_sec  is_slb_sec  is_debt_sec  ...  is_etf_sec is_delisted  \\\n",
      "0      False        True        False  ...       False       False   \n",
      "1      False        True        False  ...       False       False   \n",
      "2      False        True         True  ...       False       False   \n",
      "3      False        True        False  ...       False       False   \n",
      "4      False        True        False  ...       False       False   \n",
      "\n",
      "           isin      slb_isin listing_date is_municipal_bond is_hybrid_symbol  \\\n",
      "0  INE066A01021  INE066A01021   2004-09-07             False            False   \n",
      "1  INE101A01026  INE101A01026   1996-01-03             False            False   \n",
      "2  INE721A01047  INE721A01047   1996-12-11             False            False   \n",
      "3  INE585B01010  INE585B01010   2003-07-09             False            False   \n",
      "4  INE089A01031  INE089A01031   2003-05-30             False            False   \n",
      "\n",
      "            equity_time         pre_open_time quote_pre_open_flag  \n",
      "0  05-Sep-2025 16:00:00  05-Sep-2025 09:07:40               False  \n",
      "1  05-Sep-2025 16:00:00  05-Sep-2025 09:07:40               False  \n",
      "2  05-Sep-2025 16:00:00  05-Sep-2025 09:07:40               False  \n",
      "3  05-Sep-2025 16:00:00  05-Sep-2025 09:07:40               False  \n",
      "4  05-Sep-2025 16:00:00  05-Sep-2025 09:07:40               False  \n",
      "\n",
      "[5 rows x 22 columns]\n"
     ]
    }
   ],
   "source": [
    "import pandas as pd\n",
    "\n",
    "# Load file\n",
    "df_meta = pd.read_csv(\"../data/raw/indstock_metadata.csv\")\n",
    "\n",
    "# Define rename mapping\n",
    "rename_map = {\n",
    "    \"companyName\": \"company_name\",\n",
    "    \"industry\": \"industry\",\n",
    "    \"activeSeries\": \"active_series\",\n",
    "    \"debtSeries\": \"debt_series\",\n",
    "    \"isFNOSec\": \"is_fno_sec\",\n",
    "    \"isCASec\": \"is_ca_sec\",\n",
    "    \"isSLBSec\": \"is_slb_sec\",\n",
    "    \"isDebtSec\": \"is_debt_sec\",\n",
    "    \"isSuspended\": \"is_suspended\",\n",
    "    \"tempSuspendedSeries\": \"temp_suspended_series\",\n",
    "    \"isETFSec\": \"is_etf_sec\",\n",
    "    \"isDelisted\": \"is_delisted\",\n",
    "    \"isin\": \"isin\",\n",
    "    \"slb_isin\": \"slb_isin\",\n",
    "    \"listingDate\": \"listing_date\",\n",
    "    \"isMunicipalBond\": \"is_municipal_bond\",\n",
    "    \"isHybridSymbol\": \"is_hybrid_symbol\",\n",
    "    \"quotepreopenstatus.equityTime\": \"equity_time\",\n",
    "    \"quotepreopenstatus.preOpenTime\": \"pre_open_time\",\n",
    "    \"quotepreopenstatus.QuotePreOpenFlag\": \"quote_pre_open_flag\",\n",
    "}\n",
    "\n",
    "# Apply rename\n",
    "df_meta = df_meta.rename(columns=rename_map)\n",
    "\n",
    "# Remove duplicate \"symbol\" column if needed\n",
    "df_meta = df_meta.loc[:, ~df_meta.columns.duplicated()]\n",
    "\n",
    "# Save cleaned file\n",
    "df_meta.to_csv(\"../data/cleaned/indstock_metadata_cleaned.csv\", index=False)\n",
    "\n",
    "print(\"✅ Standardized metadata saved as 'indstock_metadata_cleaned.csv'\")\n",
    "print(df_meta.head())\n"
   ]
  },
  {
   "cell_type": "markdown",
   "id": "ba2cb2d4-cddb-490b-a09e-18b013135b4a",
   "metadata": {},
   "source": [
    "##\n",
    "\n",
    "\n",
    "***"
   ]
  },
  {
   "cell_type": "markdown",
   "id": "4b22c69b-070d-4504-88ff-9a38f949e8c2",
   "metadata": {},
   "source": [
    "## 📊 Conclusion\n",
    "\n",
    "We have successfully:\n",
    "* Extracted the complete stock summary of all NIFTY 50 constituents.\n",
    "* Organized the workflow into raw and cleaned datasets.\n",
    "* Ensured numerical consistency and handled missing values.\n",
    "\n",
    "This cleaned dataset can now be directly used for:\n",
    "* **Exploratory Data Analysis (EDA)**\n",
    "* **Visualization Dashboards**\n",
    "* **Integration into larger financial projects**\n",
    "\n",
    "---"
   ]
  }
 ],
 "metadata": {
  "kernelspec": {
   "display_name": "Python 3 (ipykernel)",
   "language": "python",
   "name": "python3"
  },
  "language_info": {
   "codemirror_mode": {
    "name": "ipython",
    "version": 3
   },
   "file_extension": ".py",
   "mimetype": "text/x-python",
   "name": "python",
   "nbconvert_exporter": "python",
   "pygments_lexer": "ipython3",
   "version": "3.13.6"
  }
 },
 "nbformat": 4,
 "nbformat_minor": 5
}
